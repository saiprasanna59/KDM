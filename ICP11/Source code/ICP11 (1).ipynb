{
  "nbformat": 4,
  "nbformat_minor": 0,
  "metadata": {
    "colab": {
      "name": "ICP11.ipynb",
      "provenance": []
    },
    "kernelspec": {
      "name": "python3",
      "display_name": "Python 3"
    },
    "language_info": {
      "name": "python"
    },
    "accelerator": "GPU"
  },
  "cells": [
    {
      "cell_type": "markdown",
      "metadata": {
        "id": "-jFFRbCqzRY8"
      },
      "source": [
        "In this ICP we will build 2 feed forward network.\n",
        "\n",
        ">Auto Encoder\n",
        "\n",
        ">CNN\n",
        "\n",
        ">Data Set\n",
        "\n",
        ">>Cifar100 is a dataset of 50,000 32x32 color training images and 10,000 test images, labeled over 100 fine-grained classes that are grouped into 20 coarse-grained classes. See more info at the CIFAR"
      ]
    },
    {
      "cell_type": "code",
      "metadata": {
        "colab": {
          "base_uri": "https://localhost:8080/"
        },
        "id": "DwqNu98r4WB6",
        "outputId": "bafb8f60-f439-4dea-c22f-d39eb2c86322"
      },
      "source": [
        "from google.colab import drive\n",
        "drive.mount('/content/drive')"
      ],
      "execution_count": 7,
      "outputs": [
        {
          "output_type": "stream",
          "text": [
            "Drive already mounted at /content/drive; to attempt to forcibly remount, call drive.mount(\"/content/drive\", force_remount=True).\n"
          ],
          "name": "stdout"
        }
      ]
    },
    {
      "cell_type": "markdown",
      "metadata": {
        "id": "XGzIpl7P0U6_"
      },
      "source": [
        "Auto Encoders:\n",
        "\n",
        ">>Data compression is a big topic that’s used in computer vision, computer networks, computer architecture, and many other fields.The point of data compression is to convert our input into a smaller representation that we recreate, to a degree of quality. This smaller representation is what would be passed around, and, when anyone needed the original, they would reconstruct it from the smaller representation.Autoencoders are unsupervised neural networks that use machine learning to do this compression \n"
      ]
    },
    {
      "cell_type": "code",
      "metadata": {
        "id": "r9_cWbPki6tv"
      },
      "source": [
        "from keras.layers import Input, Dense\n",
        "from keras.models import Model\n",
        "from keras.datasets import mnist\n",
        "from keras.datasets import cifar100\n",
        " \n",
        "import numpy as np\n",
        "import matplotlib.pyplot as plt\n",
        "\n",
        "\n"
      ],
      "execution_count": 8,
      "outputs": []
    },
    {
      "cell_type": "markdown",
      "metadata": {
        "id": "fZMxXfcA0wIW"
      },
      "source": [
        "Load  cifar100 handwritten digits dataset.\n",
        "\n",
        "There is no need to load labels because autoencoders are unsupervised.\n",
        "\n",
        "Rescale our images from 0 – 255 to 0 – 1 and flatten them out.\n"
      ]
    },
    {
      "cell_type": "code",
      "metadata": {
        "id": "-z3fLLrtjO1X",
        "colab": {
          "base_uri": "https://localhost:8080/"
        },
        "outputId": "b9b52ae5-abbb-47ba-9ba2-28f6d2298015"
      },
      "source": [
        "#Notice that we’re not loading any of the labels because autoencoders are unsupervised\n",
        "(X_train, _), (X_test, _) = cifar100.load_data()\n",
        "# rescale our images from 0 – 255 to 0 – 1 and flatten them out.\n",
        "X_train = X_train.astype('float32') / 255.\n",
        "X_test = X_test.astype('float32') / 255.\n",
        "X_train = X_train.reshape((X_train.shape[0], -1))\n",
        "X_test = X_test.reshape((X_test.shape[0], -1))"
      ],
      "execution_count": 9,
      "outputs": [
        {
          "output_type": "stream",
          "text": [
            "Downloading data from https://www.cs.toronto.edu/~kriz/cifar-100-python.tar.gz\n",
            "169009152/169001437 [==============================] - 2s 0us/step\n"
          ],
          "name": "stdout"
        }
      ]
    },
    {
      "cell_type": "code",
      "metadata": {
        "colab": {
          "base_uri": "https://localhost:8080/"
        },
        "id": "MceFF_0BjO9O",
        "outputId": "680e290c-fd13-47e3-a7ac-fd04232b2abb"
      },
      "source": [
        "X_train.shape"
      ],
      "execution_count": 10,
      "outputs": [
        {
          "output_type": "execute_result",
          "data": {
            "text/plain": [
              "(50000, 3072)"
            ]
          },
          "metadata": {
            "tags": []
          },
          "execution_count": 10
        }
      ]
    },
    {
      "cell_type": "code",
      "metadata": {
        "colab": {
          "base_uri": "https://localhost:8080/"
        },
        "id": "BupxtkW-jPDk",
        "outputId": "ca5d6a54-29cd-4114-dd36-37eb941aeaba"
      },
      "source": [
        "X_test.shape"
      ],
      "execution_count": 11,
      "outputs": [
        {
          "output_type": "execute_result",
          "data": {
            "text/plain": [
              "(10000, 3072)"
            ]
          },
          "metadata": {
            "tags": []
          },
          "execution_count": 11
        }
      ]
    },
    {
      "cell_type": "code",
      "metadata": {
        "id": "4tzUyrr7rBUg"
      },
      "source": [
        "INPUT_SIZE = 3072\n",
        "ENCODING_SIZE = 64"
      ],
      "execution_count": 12,
      "outputs": []
    },
    {
      "cell_type": "markdown",
      "metadata": {
        "id": "-h3DN2WW1Hjn"
      },
      "source": [
        "Create autoencoder\n",
        "\t\n",
        "Use ReLU  activation functions \n",
        "\n",
        "create constants for our input size and our encoding size. \n",
        "\n",
        "reduce our input from 784 -> 512 -> 256 -> 128 -> 64, encoder path\n",
        "\n",
        "then expand it back up 64 -> 128 -> 256 -> 512 -> 784, decoder path\n"
      ]
    },
    {
      "cell_type": "code",
      "metadata": {
        "id": "oacp6YGKjhtR"
      },
      "source": [
        "#reduce our input from 784 -> 512 -> 256 -> 128 -> 64 (encoder path), then expand it back up 64 -> 128 -> 256 -> 512 -> 784(decoder path).\n",
        "# Also notice the relu activation function\n",
        "input_img = Input(shape=(INPUT_SIZE,))\n",
        "encoded = Dense(512, activation='relu')(input_img)\n",
        "encoded = Dense(256, activation='relu')(encoded)\n",
        "encoded = Dense(128, activation='relu')(encoded)\n",
        "encoded = Dense(ENCODING_SIZE, activation='relu')(encoded)"
      ],
      "execution_count": 13,
      "outputs": []
    },
    {
      "cell_type": "code",
      "metadata": {
        "id": "MSF9HPsAj2ns"
      },
      "source": [
        "decoded = Dense(128, activation='relu')(encoded)\n",
        "decoded = Dense(256, activation='relu')(decoded)\n",
        "decoded = Dense(512, activation='relu')(decoded)\n",
        "decoded = Dense(INPUT_SIZE, activation='relu')(decoded)\n"
      ],
      "execution_count": 14,
      "outputs": []
    },
    {
      "cell_type": "code",
      "metadata": {
        "id": "1tMXFCw5j9lB"
      },
      "source": [
        "autoencoder = Model(input_img, decoded)"
      ],
      "execution_count": 15,
      "outputs": []
    },
    {
      "cell_type": "markdown",
      "metadata": {
        "id": "2awwn1Hw11C-"
      },
      "source": [
        "Training the model and then making the prediction \n",
        "\n",
        "Build and train the model.\n",
        "\n",
        "Use the ADAM optimizer and mean squared error loss (the Euclidean distance/loss) between the input and reconstruction\n",
        "\n",
        "encode and decode the test set to see how well model is performing\n",
        "\n"
      ]
    },
    {
      "cell_type": "code",
      "metadata": {
        "colab": {
          "base_uri": "https://localhost:8080/"
        },
        "id": "jZ0OekOij_hR",
        "outputId": "0926788b-b20b-40c9-9573-6c77fd59820a"
      },
      "source": [
        "#using ADAM optimizer and mean squared error loss (the Euclidean distance/loss) between the input and reconstruction\n",
        "autoencoder.compile(optimizer='adam', loss='mean_squared_error',)\n",
        "autoencoder.fit(X_train, X_train, epochs=50, batch_size=256, shuffle=True, validation_split=0.2)"
      ],
      "execution_count": 16,
      "outputs": [
        {
          "output_type": "stream",
          "text": [
            "Epoch 1/50\n",
            "157/157 [==============================] - 4s 9ms/step - loss: 0.1189 - val_loss: 0.0390\n",
            "Epoch 2/50\n",
            "157/157 [==============================] - 1s 7ms/step - loss: 0.0343 - val_loss: 0.0264\n",
            "Epoch 3/50\n",
            "157/157 [==============================] - 1s 7ms/step - loss: 0.0261 - val_loss: 0.0236\n",
            "Epoch 4/50\n",
            "157/157 [==============================] - 1s 7ms/step - loss: 0.0232 - val_loss: 0.0233\n",
            "Epoch 5/50\n",
            "157/157 [==============================] - 1s 7ms/step - loss: 0.0213 - val_loss: 0.0203\n",
            "Epoch 6/50\n",
            "157/157 [==============================] - 1s 7ms/step - loss: 0.0198 - val_loss: 0.0195\n",
            "Epoch 7/50\n",
            "157/157 [==============================] - 1s 7ms/step - loss: 0.0189 - val_loss: 0.0187\n",
            "Epoch 8/50\n",
            "157/157 [==============================] - 1s 7ms/step - loss: 0.0184 - val_loss: 0.0181\n",
            "Epoch 9/50\n",
            "157/157 [==============================] - 1s 7ms/step - loss: 0.0178 - val_loss: 0.0174\n",
            "Epoch 10/50\n",
            "157/157 [==============================] - 1s 7ms/step - loss: 0.0172 - val_loss: 0.0174\n",
            "Epoch 11/50\n",
            "157/157 [==============================] - 1s 7ms/step - loss: 0.0172 - val_loss: 0.0171\n",
            "Epoch 12/50\n",
            "157/157 [==============================] - 1s 7ms/step - loss: 0.0169 - val_loss: 0.0172\n",
            "Epoch 13/50\n",
            "157/157 [==============================] - 1s 7ms/step - loss: 0.0167 - val_loss: 0.0169\n",
            "Epoch 14/50\n",
            "157/157 [==============================] - 1s 7ms/step - loss: 0.0163 - val_loss: 0.0165\n",
            "Epoch 15/50\n",
            "157/157 [==============================] - 1s 7ms/step - loss: 0.0162 - val_loss: 0.0161\n",
            "Epoch 16/50\n",
            "157/157 [==============================] - 1s 7ms/step - loss: 0.0161 - val_loss: 0.0181\n",
            "Epoch 17/50\n",
            "157/157 [==============================] - 1s 7ms/step - loss: 0.0160 - val_loss: 0.0156\n",
            "Epoch 18/50\n",
            "157/157 [==============================] - 1s 7ms/step - loss: 0.0155 - val_loss: 0.0174\n",
            "Epoch 19/50\n",
            "157/157 [==============================] - 1s 7ms/step - loss: 0.0157 - val_loss: 0.0155\n",
            "Epoch 20/50\n",
            "157/157 [==============================] - 1s 7ms/step - loss: 0.0153 - val_loss: 0.0152\n",
            "Epoch 21/50\n",
            "157/157 [==============================] - 1s 7ms/step - loss: 0.0151 - val_loss: 0.0153\n",
            "Epoch 22/50\n",
            "157/157 [==============================] - 1s 7ms/step - loss: 0.0150 - val_loss: 0.0150\n",
            "Epoch 23/50\n",
            "157/157 [==============================] - 1s 7ms/step - loss: 0.0150 - val_loss: 0.0150\n",
            "Epoch 24/50\n",
            "157/157 [==============================] - 1s 7ms/step - loss: 0.0148 - val_loss: 0.0158\n",
            "Epoch 25/50\n",
            "157/157 [==============================] - 1s 7ms/step - loss: 0.0149 - val_loss: 0.0148\n",
            "Epoch 26/50\n",
            "157/157 [==============================] - 1s 7ms/step - loss: 0.0147 - val_loss: 0.0150\n",
            "Epoch 27/50\n",
            "157/157 [==============================] - 1s 7ms/step - loss: 0.0146 - val_loss: 0.0152\n",
            "Epoch 28/50\n",
            "157/157 [==============================] - 1s 7ms/step - loss: 0.0145 - val_loss: 0.0146\n",
            "Epoch 29/50\n",
            "157/157 [==============================] - 1s 7ms/step - loss: 0.0145 - val_loss: 0.0146\n",
            "Epoch 30/50\n",
            "157/157 [==============================] - 1s 7ms/step - loss: 0.0144 - val_loss: 0.0144\n",
            "Epoch 31/50\n",
            "157/157 [==============================] - 1s 7ms/step - loss: 0.0144 - val_loss: 0.0151\n",
            "Epoch 32/50\n",
            "157/157 [==============================] - 1s 7ms/step - loss: 0.0143 - val_loss: 0.0143\n",
            "Epoch 33/50\n",
            "157/157 [==============================] - 1s 7ms/step - loss: 0.0142 - val_loss: 0.0145\n",
            "Epoch 34/50\n",
            "157/157 [==============================] - 1s 7ms/step - loss: 0.0142 - val_loss: 0.0143\n",
            "Epoch 35/50\n",
            "157/157 [==============================] - 1s 7ms/step - loss: 0.0141 - val_loss: 0.0181\n",
            "Epoch 36/50\n",
            "157/157 [==============================] - 1s 7ms/step - loss: 0.0146 - val_loss: 0.0141\n",
            "Epoch 37/50\n",
            "157/157 [==============================] - 1s 7ms/step - loss: 0.0140 - val_loss: 0.0143\n",
            "Epoch 38/50\n",
            "157/157 [==============================] - 1s 7ms/step - loss: 0.0141 - val_loss: 0.0144\n",
            "Epoch 39/50\n",
            "157/157 [==============================] - 1s 7ms/step - loss: 0.0139 - val_loss: 0.0139\n",
            "Epoch 40/50\n",
            "157/157 [==============================] - 1s 7ms/step - loss: 0.0138 - val_loss: 0.0143\n",
            "Epoch 41/50\n",
            "157/157 [==============================] - 1s 7ms/step - loss: 0.0137 - val_loss: 0.0141\n",
            "Epoch 42/50\n",
            "157/157 [==============================] - 1s 7ms/step - loss: 0.0137 - val_loss: 0.0139\n",
            "Epoch 43/50\n",
            "157/157 [==============================] - 1s 7ms/step - loss: 0.0136 - val_loss: 0.0140\n",
            "Epoch 44/50\n",
            "157/157 [==============================] - 1s 7ms/step - loss: 0.0136 - val_loss: 0.0138\n",
            "Epoch 45/50\n",
            "157/157 [==============================] - 1s 7ms/step - loss: 0.0135 - val_loss: 0.0138\n",
            "Epoch 46/50\n",
            "157/157 [==============================] - 1s 7ms/step - loss: 0.0136 - val_loss: 0.0140\n",
            "Epoch 47/50\n",
            "157/157 [==============================] - 1s 7ms/step - loss: 0.0135 - val_loss: 0.0140\n",
            "Epoch 48/50\n",
            "157/157 [==============================] - 1s 7ms/step - loss: 0.0135 - val_loss: 0.0138\n",
            "Epoch 49/50\n",
            "157/157 [==============================] - 1s 7ms/step - loss: 0.0134 - val_loss: 0.0138\n",
            "Epoch 50/50\n",
            "157/157 [==============================] - 1s 7ms/step - loss: 0.0135 - val_loss: 0.0138\n"
          ],
          "name": "stdout"
        },
        {
          "output_type": "execute_result",
          "data": {
            "text/plain": [
              "<tensorflow.python.keras.callbacks.History at 0x7fc663bf5550>"
            ]
          },
          "metadata": {
            "tags": []
          },
          "execution_count": 16
        }
      ]
    },
    {
      "cell_type": "code",
      "metadata": {
        "id": "SmLdgFuLkHLE"
      },
      "source": [
        "#After our autoencoder has trained, we can try to encode and decode the test set to see how well our autoencoder can compress\n",
        "decoded_imgs = autoencoder.predict(X_test)"
      ],
      "execution_count": 17,
      "outputs": []
    },
    {
      "cell_type": "markdown",
      "metadata": {
        "id": "l9AV9WA32DO4"
      },
      "source": [
        "Visvualize the results "
      ]
    },
    {
      "cell_type": "code",
      "metadata": {
        "colab": {
          "base_uri": "https://localhost:8080/",
          "height": 219
        },
        "id": "4QGe9UvVu2gL",
        "outputId": "0727278f-8cb3-484e-bc09-ac5ef75fadff"
      },
      "source": [
        "\n",
        "plt.figure(figsize=(20, 4))\n",
        "for i in range(10):\n",
        "    # original\n",
        "    plt.subplot(2, 10, i + 1)\n",
        "    plt.imshow(X_test[i].reshape(32, 32, 3))\n",
        "    plt.gray()\n",
        "    plt.axis('off')\n",
        " \n",
        "    # reconstruction\n",
        "    plt.subplot(2, 10, i + 1 + 10)\n",
        "    plt.imshow(decoded_imgs[i].reshape(32, 32, 3))\n",
        "    plt.gray()\n",
        "    plt.axis('off')\n",
        " \n",
        "plt.tight_layout()\n",
        "plt.show()"
      ],
      "execution_count": 19,
      "outputs": [
        {
          "output_type": "stream",
          "text": [
            "Clipping input data to the valid range for imshow with RGB data ([0..1] for floats or [0..255] for integers).\n"
          ],
          "name": "stderr"
        },
        {
          "output_type": "display_data",
          "data": {
            "image/png": "[encoded data removed]",
            "text/plain": [
              "<Figure size 1440x288 with 20 Axes>"
            ]
          },
          "metadata": {
            "tags": [],
            "needs_background": "light"
          }
        }
      ]
    },
    {
      "cell_type": "markdown",
      "metadata": {
        "id": "qPuU-xlr2IQi"
      },
      "source": [
        "CNN \n",
        "\n",
        "\t\n",
        "We’re going to tackle a classic introductory Computer Vision problem: Cifar100 handwritten digit classification. It’s simple: given an image, classify it as a digit\n",
        "\t\n",
        "Each image in the Cifar100 dataset is 32x32 and contains a centered, grayscale digit. Our CNN will take an image and output one of 10 possible classes (one for each digit)\n",
        "\n",
        "First of all,  import all necessary packages\n",
        "\n",
        "\n"
      ]
    },
    {
      "cell_type": "code",
      "metadata": {
        "id": "FAcah1drwp5F"
      },
      "source": [
        "import numpy as np\n",
        "import tensorflow as tf\n",
        "from keras.datasets import cifar100\n",
        "from keras.models import Sequential\n",
        "from keras.layers import Conv2D, MaxPooling2D, Dense, Flatten\n",
        "from keras.utils import to_categorical"
      ],
      "execution_count": 21,
      "outputs": []
    },
    {
      "cell_type": "code",
      "metadata": {
        "id": "G8wNQ_5JwrbI"
      },
      "source": [
        "(train_images, train_labels), (test_images, test_labels) = cifar100.load_data()"
      ],
      "execution_count": 22,
      "outputs": []
    },
    {
      "cell_type": "markdown",
      "metadata": {
        "id": "2sT7ApeR2u4I"
      },
      "source": [
        "Before we begin, we’ll normalize the image pixel values from [0, 255] to [-0.5, 0.5]\n",
        "\t \n",
        "This will  make our network easier to train (using smaller, centered values usually leads to better results). \n",
        "\n",
        "We’ll also reshape each image from (32, 32) to (32, 32, 1) because Keras requires the third dimension. (1 stands for color scheme, which is grey scale in this case). \n",
        "\n"
      ]
    },
    {
      "cell_type": "code",
      "metadata": {
        "id": "5fvE-hRywrlV",
        "colab": {
          "base_uri": "https://localhost:8080/"
        },
        "outputId": "c0ee738b-3917-4976-e89f-b28f2af12032"
      },
      "source": [
        "# Normalize the images.\n",
        "train_images = (train_images / 255) - 0.5\n",
        "test_images = (test_images / 255) - 0.5\n",
        "print (train_images.shape)"
      ],
      "execution_count": 23,
      "outputs": [
        {
          "output_type": "stream",
          "text": [
            "(50000, 32, 32, 3)\n"
          ],
          "name": "stdout"
        }
      ]
    },
    {
      "cell_type": "markdown",
      "metadata": {
        "id": "73nP9Kv73IJt"
      },
      "source": [
        "Keras model is either built using the Sequential class, which represents a linear stack of layers, or the functional Model class, which is more customizable. \n",
        "\n",
        "We’ll be using the simpler Sequential model, since our CNN will be a linear stack of layers.\n",
        "\n",
        "num_filters, filter_size, and pool_size are self-explanatory variables that set the hyperparameters for our CNN.\n",
        "\n",
        "The first layer in any Sequential model must specify the input_shape, so we do so on Conv2D. \n",
        "\n",
        "Once this input shape is specified, Keras will automatically infer the shapes of inputs for later layers.\n",
        "\t\n",
        "The output Softmax layer has 10 nodes, one for each class\n",
        "\n",
        "\n"
      ]
    },
    {
      "cell_type": "code",
      "metadata": {
        "id": "soSpyDp6wrr4"
      },
      "source": [
        "\n",
        "num_filters = 8\n",
        "filter_size = 5\n",
        "pool_size = 3"
      ],
      "execution_count": 24,
      "outputs": []
    },
    {
      "cell_type": "code",
      "metadata": {
        "id": "2CpLEcMKw-CZ"
      },
      "source": [
        "# Build the model.\n",
        "model = Sequential([\n",
        "  Conv2D(num_filters, filter_size, input_shape=(32, 32, 3)),\n",
        "  MaxPooling2D(pool_size=pool_size),\n",
        "  Flatten(),\n",
        "  Dense(100, activation='softmax'),\n",
        "])"
      ],
      "execution_count": 25,
      "outputs": []
    },
    {
      "cell_type": "markdown",
      "metadata": {
        "id": "SkwwUCKQ4M7U"
      },
      "source": [
        "Before we can begin training, we need to configure the training process. We decide 3 key factors during the compilation step:\n",
        "\t\n",
        "The optimizer. We’ll stick with a pretty good default: the Adam gradient-based optimizer. Keras has many other optimizers you can look into as well.\n",
        "\n",
        "The loss function. Since we’re using a Softmax output layer, we’ll use the Cross-Entropy loss. Keras distinguishes between binary_crossentropy (2 classes) and categorical_crossentropy (>2 classes), so we’ll use the latter. \n",
        "\n",
        "A list of metrics. Since this is a classification problem, we’ll just have Keras report on the accuracy metric.\n",
        "\n"
      ]
    },
    {
      "cell_type": "code",
      "metadata": {
        "id": "uhflsBSvw-GX"
      },
      "source": [
        "# Compile the model.\n",
        "model.compile(\n",
        "  'adam',\n",
        "  loss='categorical_crossentropy',\n",
        "  metrics=['accuracy'],\n",
        ")"
      ],
      "execution_count": 26,
      "outputs": []
    },
    {
      "cell_type": "markdown",
      "metadata": {
        "id": "SVGOn2AX41Ub"
      },
      "source": [
        "Training a model in Keras literally consists only of calling fit() and specifying some parameters. There are a lot of possible parameters, but we’ll only supply these:\n",
        "\n",
        "The training data (images and labels), commonly known as X and Y, respectively.\n",
        "\n",
        "The number of epochs (iterations over the entire dataset) to train for.\n",
        "\n",
        "The validation data (or test data), which is used during training to periodically measure the network’s performance against data it hasn’t seen before.\n",
        "\n",
        "There’s one thing we have to be careful about:\n",
        "\n",
        "Keras expects the training targets to be 10-dimensional vectors, since there are 10 nodes in our Softmax output layer. Right now, our train_labels and test_labels arrays contain single integers representing the class for each image\n",
        "\n",
        "Conveniently, Keras has a utility method that fixes this exact issue:\n",
        "to_categorical: It turns our array of class integers into an array of one-hot vectors instead. For example, 2 would become [0, 0, 1, 0, 0, 0, 0, 0, 0, 0] (it’s zero-indexed)\n",
        "\n",
        "\n",
        "\n"
      ]
    },
    {
      "cell_type": "code",
      "metadata": {
        "colab": {
          "base_uri": "https://localhost:8080/"
        },
        "id": "srpkxU0_w-JR",
        "outputId": "751c629a-472b-4cc6-e51f-3b36f3f5662d"
      },
      "source": [
        "# Train the model.\n",
        "model.fit(\n",
        "  train_images,\n",
        "  to_categorical(train_labels),\n",
        "  epochs=30,\n",
        "  validation_data=(test_images, to_categorical(test_labels)),\n",
        ")"
      ],
      "execution_count": 27,
      "outputs": [
        {
          "output_type": "stream",
          "text": [
            "Epoch 1/30\n",
            "1563/1563 [==============================] - 34s 3ms/step - loss: 3.9218 - accuracy: 0.1238 - val_loss: 3.4115 - val_accuracy: 0.2158\n",
            "Epoch 2/30\n",
            "1563/1563 [==============================] - 5s 3ms/step - loss: 3.2555 - accuracy: 0.2448 - val_loss: 3.2178 - val_accuracy: 0.2517\n",
            "Epoch 3/30\n",
            "1563/1563 [==============================] - 5s 3ms/step - loss: 3.0400 - accuracy: 0.2859 - val_loss: 3.1774 - val_accuracy: 0.2590\n",
            "Epoch 4/30\n",
            "1563/1563 [==============================] - 5s 3ms/step - loss: 2.8845 - accuracy: 0.3213 - val_loss: 3.1087 - val_accuracy: 0.2729\n",
            "Epoch 5/30\n",
            "1563/1563 [==============================] - 5s 3ms/step - loss: 2.8015 - accuracy: 0.3351 - val_loss: 3.0825 - val_accuracy: 0.2722\n",
            "Epoch 6/30\n",
            "1563/1563 [==============================] - 5s 3ms/step - loss: 2.7043 - accuracy: 0.3544 - val_loss: 3.0653 - val_accuracy: 0.2795\n",
            "Epoch 7/30\n",
            "1563/1563 [==============================] - 5s 3ms/step - loss: 2.6418 - accuracy: 0.3700 - val_loss: 3.0638 - val_accuracy: 0.2827\n",
            "Epoch 8/30\n",
            "1563/1563 [==============================] - 5s 3ms/step - loss: 2.5987 - accuracy: 0.3774 - val_loss: 3.0579 - val_accuracy: 0.2827\n",
            "Epoch 9/30\n",
            "1563/1563 [==============================] - 5s 3ms/step - loss: 2.5435 - accuracy: 0.3867 - val_loss: 3.0572 - val_accuracy: 0.2873\n",
            "Epoch 10/30\n",
            "1563/1563 [==============================] - 5s 3ms/step - loss: 2.5023 - accuracy: 0.3966 - val_loss: 3.0531 - val_accuracy: 0.2828\n",
            "Epoch 11/30\n",
            "1563/1563 [==============================] - 5s 3ms/step - loss: 2.4757 - accuracy: 0.4006 - val_loss: 3.0615 - val_accuracy: 0.2877\n",
            "Epoch 12/30\n",
            "1563/1563 [==============================] - 5s 3ms/step - loss: 2.4428 - accuracy: 0.4060 - val_loss: 3.0779 - val_accuracy: 0.2869\n",
            "Epoch 13/30\n",
            "1563/1563 [==============================] - 5s 3ms/step - loss: 2.4237 - accuracy: 0.4134 - val_loss: 3.0742 - val_accuracy: 0.2864\n",
            "Epoch 14/30\n",
            "1563/1563 [==============================] - 5s 3ms/step - loss: 2.3932 - accuracy: 0.4159 - val_loss: 3.0721 - val_accuracy: 0.2848\n",
            "Epoch 15/30\n",
            "1563/1563 [==============================] - 5s 3ms/step - loss: 2.3635 - accuracy: 0.4237 - val_loss: 3.0893 - val_accuracy: 0.2847\n",
            "Epoch 16/30\n",
            "1563/1563 [==============================] - 5s 3ms/step - loss: 2.3428 - accuracy: 0.4259 - val_loss: 3.0966 - val_accuracy: 0.2889\n",
            "Epoch 17/30\n",
            "1563/1563 [==============================] - 5s 3ms/step - loss: 2.3167 - accuracy: 0.4336 - val_loss: 3.0948 - val_accuracy: 0.2840\n",
            "Epoch 18/30\n",
            "1563/1563 [==============================] - 5s 3ms/step - loss: 2.3078 - accuracy: 0.4308 - val_loss: 3.0994 - val_accuracy: 0.2850\n",
            "Epoch 19/30\n",
            "1563/1563 [==============================] - 5s 3ms/step - loss: 2.2947 - accuracy: 0.4353 - val_loss: 3.1260 - val_accuracy: 0.2817\n",
            "Epoch 20/30\n",
            "1563/1563 [==============================] - 5s 3ms/step - loss: 2.2635 - accuracy: 0.4430 - val_loss: 3.1244 - val_accuracy: 0.2833\n",
            "Epoch 21/30\n",
            "1563/1563 [==============================] - 5s 3ms/step - loss: 2.2525 - accuracy: 0.4426 - val_loss: 3.1441 - val_accuracy: 0.2829\n",
            "Epoch 22/30\n",
            "1563/1563 [==============================] - 5s 3ms/step - loss: 2.2363 - accuracy: 0.4484 - val_loss: 3.1285 - val_accuracy: 0.2847\n",
            "Epoch 23/30\n",
            "1563/1563 [==============================] - 5s 3ms/step - loss: 2.2141 - accuracy: 0.4517 - val_loss: 3.1556 - val_accuracy: 0.2800\n",
            "Epoch 24/30\n",
            "1563/1563 [==============================] - 5s 3ms/step - loss: 2.2094 - accuracy: 0.4500 - val_loss: 3.1493 - val_accuracy: 0.2823\n",
            "Epoch 25/30\n",
            "1563/1563 [==============================] - 5s 3ms/step - loss: 2.1999 - accuracy: 0.4539 - val_loss: 3.1663 - val_accuracy: 0.2790\n",
            "Epoch 26/30\n",
            "1563/1563 [==============================] - 5s 3ms/step - loss: 2.1990 - accuracy: 0.4523 - val_loss: 3.1907 - val_accuracy: 0.2759\n",
            "Epoch 27/30\n",
            "1563/1563 [==============================] - 5s 3ms/step - loss: 2.1994 - accuracy: 0.4544 - val_loss: 3.1860 - val_accuracy: 0.2853\n",
            "Epoch 28/30\n",
            "1563/1563 [==============================] - 5s 3ms/step - loss: 2.1788 - accuracy: 0.4594 - val_loss: 3.1837 - val_accuracy: 0.2837\n",
            "Epoch 29/30\n",
            "1563/1563 [==============================] - 5s 3ms/step - loss: 2.1695 - accuracy: 0.4624 - val_loss: 3.1891 - val_accuracy: 0.2813\n",
            "Epoch 30/30\n",
            "1563/1563 [==============================] - 5s 3ms/step - loss: 2.1673 - accuracy: 0.4607 - val_loss: 3.2266 - val_accuracy: 0.2787\n"
          ],
          "name": "stdout"
        },
        {
          "output_type": "execute_result",
          "data": {
            "text/plain": [
              "<tensorflow.python.keras.callbacks.History at 0x7fc61414ea90>"
            ]
          },
          "metadata": {
            "tags": []
          },
          "execution_count": 27
        }
      ]
    },
    {
      "cell_type": "markdown",
      "metadata": {
        "id": "zcMHM5u65_rF"
      },
      "source": [
        "We pass an array of inputs to predict() and it returns an array of outputs.\n",
        "\n",
        "The output of our network is 10 probabilities (because of softmax), so we’ll use np.argmax() to turn those into actual digits.\n"
      ]
    },
    {
      "cell_type": "code",
      "metadata": {
        "id": "Ganai2kyw-MX"
      },
      "source": [
        "# Predict on the first 10 test images.\n",
        "predictions = model.predict(test_images[:10])"
      ],
      "execution_count": 28,
      "outputs": []
    },
    {
      "cell_type": "code",
      "metadata": {
        "colab": {
          "base_uri": "https://localhost:8080/"
        },
        "id": "WNqIPTlow-Ox",
        "outputId": "2bf1392f-aa8c-452a-cbfe-10c828cbcac2"
      },
      "source": [
        "# Print our model's predictions.\n",
        "print(\"These are the model predictions :\")\n",
        "print(np.argmax(predictions, axis=1)) # [49 80 45  3 71  7 63 14 71 10]\n",
        "print(\"\\n\")"
      ],
      "execution_count": 29,
      "outputs": [
        {
          "output_type": "stream",
          "text": [
            "These are the model predictions :\n",
            "[68 84 31 99 71 38 16 74 71 10]\n",
            "\n",
            "\n"
          ],
          "name": "stdout"
        }
      ]
    },
    {
      "cell_type": "code",
      "metadata": {
        "colab": {
          "base_uri": "https://localhost:8080/"
        },
        "id": "8KAZx-dIw-SC",
        "outputId": "9b499f5e-c298-4230-c808-c7431e37bdef"
      },
      "source": [
        "# Check our predictions against the ground truths.\n",
        "print(\"These are the corresponding labels :\")\n",
        "print(test_labels[:10]) # [49 80 45  3 71  7 63 14 71 10]"
      ],
      "execution_count": 32,
      "outputs": [
        {
          "output_type": "stream",
          "text": [
            "These are the corresponding labels :\n",
            "[[49]\n",
            " [33]\n",
            " [72]\n",
            " [51]\n",
            " [71]\n",
            " [92]\n",
            " [15]\n",
            " [14]\n",
            " [23]\n",
            " [ 0]]\n"
          ],
          "name": "stdout"
        }
      ]
    },
    {
      "cell_type": "code",
      "metadata": {
        "colab": {
          "base_uri": "https://localhost:8080/",
          "height": 281
        },
        "id": "OXdcxR5L_fqV",
        "outputId": "467e19fd-b987-4787-e130-496ffd269f4a"
      },
      "source": [
        "plt.figure(figsize=(20, 4))\n",
        "for i in range(10):\n",
        "    # original\n",
        "    plt.subplot(2, 10, i + 1)\n",
        "    plt.imshow(test_images[i])\n",
        "    plt.gray()\n",
        "    plt.axis('off')\n",
        " \n",
        "    \n",
        " \n",
        "plt.tight_layout()\n",
        "plt.show()"
      ],
      "execution_count": 31,
      "outputs": [
        {
          "output_type": "stream",
          "text": [
            "Clipping input data to the valid range for imshow with RGB data ([0..1] for floats or [0..255] for integers).\n",
            "Clipping input data to the valid range for imshow with RGB data ([0..1] for floats or [0..255] for integers).\n",
            "Clipping input data to the valid range for imshow with RGB data ([0..1] for floats or [0..255] for integers).\n",
            "Clipping input data to the valid range for imshow with RGB data ([0..1] for floats or [0..255] for integers).\n",
            "Clipping input data to the valid range for imshow with RGB data ([0..1] for floats or [0..255] for integers).\n",
            "Clipping input data to the valid range for imshow with RGB data ([0..1] for floats or [0..255] for integers).\n",
            "Clipping input data to the valid range for imshow with RGB data ([0..1] for floats or [0..255] for integers).\n",
            "Clipping input data to the valid range for imshow with RGB data ([0..1] for floats or [0..255] for integers).\n",
            "Clipping input data to the valid range for imshow with RGB data ([0..1] for floats or [0..255] for integers).\n",
            "Clipping input data to the valid range for imshow with RGB data ([0..1] for floats or [0..255] for integers).\n"
          ],
          "name": "stderr"
        },
        {
          "output_type": "display_data",
          "data": {
            "image/png": "[encoded data removed]",
            "text/plain": [
              "<Figure size 1440x288 with 10 Axes>"
            ]
          },
          "metadata": {
            "tags": [],
            "needs_background": "light"
          }
        }
      ]
    }
  ]
}