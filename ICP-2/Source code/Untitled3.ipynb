{
  "nbformat": 4,
  "nbformat_minor": 0,
  "metadata": {
    "colab": {
      "name": "Untitled3.ipynb",
      "provenance": []
    },
    "kernelspec": {
      "name": "python3",
      "display_name": "Python 3"
    }
  },
  "cells": [
    {
      "cell_type": "code",
      "metadata": {
        "colab": {
          "base_uri": "https://localhost:8080/"
        },
        "id": "gYD6oCQ4Cna1",
        "outputId": "b1c7d941-06dc-45b1-ab1c-81f510fd2324"
      },
      "source": [
        "        import nltk\r\n",
        "        nltk.download('punkt')\r\n",
        "        import pandas as pd\r\n",
        "        from nltk.tokenize import sent_tokenize\r\n",
        "        from nltk.tokenize import word_tokenize\r\n",
        "        from nltk.probability import FreqDist\r\n",
        "        import matplotlib.pyplot as plt"
      ],
      "execution_count": 1,
      "outputs": [
        {
          "output_type": "stream",
          "text": [
            "[nltk_data] Downloading package punkt to /root/nltk_data...\n",
            "[nltk_data]   Unzipping tokenizers/punkt.zip.\n"
          ],
          "name": "stdout"
        }
      ]
    },
    {
      "cell_type": "code",
      "metadata": {
        "colab": {
          "base_uri": "https://localhost:8080/"
        },
        "id": "byp1jdUrDfvR",
        "outputId": "9e659cc1-3f7e-4e07-9a15-bba325bdca73"
      },
      "source": [
        "from google.colab import drive\r\n",
        "drive.mount('/content/drive')"
      ],
      "execution_count": 8,
      "outputs": [
        {
          "output_type": "stream",
          "text": [
            "Drive already mounted at /content/drive; to attempt to forcibly remount, call drive.mount(\"/content/drive\", force_remount=True).\n"
          ],
          "name": "stdout"
        }
      ]
    },
    {
      "cell_type": "code",
      "metadata": {
        "colab": {
          "base_uri": "https://localhost:8080/"
        },
        "id": "9anTSCJCE9Oh",
        "outputId": "c8776d08-12a3-4246-f571-9ae5416f8e69"
      },
      "source": [
        "import nltk\r\n",
        "nltk.download('wordnet')\r\n",
        "from nltk.stem import WordNetLemmatizer\r\n",
        "wordnet_lemmatizer = WordNetLemmatizer()\r\n",
        "\r\n",
        "sentence = \"she is eating an apple. an apple a day keeps doctor away.\"\r\n",
        "punctuations=\"?:!.,;\"\r\n",
        "sentence_words = nltk.word_tokenize(sentence)\r\n",
        "for word in sentence_words:\r\n",
        "    if word in punctuations:\r\n",
        "        sentence_words.remove(word)\r\n",
        "\r\n",
        "sentence_words\r\n",
        "print(\"{0:20}{1:20}\".format(\"Word\",\"Lemma\"))\r\n",
        "for word in sentence_words:\r\n",
        " print (\"{0:20}{1:20}\".format(word,wordnet_lemmatizer.lemmatize(word)))"
      ],
      "execution_count": 15,
      "outputs": [
        {
          "output_type": "stream",
          "text": [
            "[nltk_data] Downloading package wordnet to /root/nltk_data...\n",
            "[nltk_data]   Package wordnet is already up-to-date!\n",
            "Word                Lemma               \n",
            "she                 she                 \n",
            "is                  is                  \n",
            "eating              eating              \n",
            "an                  an                  \n",
            "apple               apple               \n",
            "an                  an                  \n",
            "apple               apple               \n",
            "a                   a                   \n",
            "day                 day                 \n",
            "keeps               keep                \n",
            "doctor              doctor              \n",
            "away                away                \n"
          ],
          "name": "stdout"
        }
      ]
    },
    {
      "cell_type": "code",
      "metadata": {
        "colab": {
          "base_uri": "https://localhost:8080/"
        },
        "id": "RV4U_i7THEpP",
        "outputId": "8f011024-2789-40ed-b5c1-9b693483fad0"
      },
      "source": [
        "\r\n",
        "from nltk.tag import DefaultTagger \r\n",
        "\r\n",
        "tagging = DefaultTagger('POS') \r\n",
        "  \r\n",
        "tagging.tag_sents([['welcome', 'to', '.'], ['Part', 'of', 'Speech']]) "
      ],
      "execution_count": 50,
      "outputs": [
        {
          "output_type": "execute_result",
          "data": {
            "text/plain": [
              "[[('welcome', 'POS'), ('to', 'POS'), ('.', 'POS')],\n",
              " [('Part', 'POS'), ('of', 'POS'), ('Speech', 'POS')]]"
            ]
          },
          "metadata": {
            "tags": []
          },
          "execution_count": 50
        }
      ]
    },
    {
      "cell_type": "markdown",
      "metadata": {
        "id": "WvzSw44QTVwa"
      },
      "source": [
        "# New Section"
      ]
    },
    {
      "cell_type": "code",
      "metadata": {
        "id": "VjlKY-DWTdtj"
      },
      "source": [
        ""
      ],
      "execution_count": null,
      "outputs": []
    },
    {
      "cell_type": "markdown",
      "metadata": {
        "id": "V4ZDQwKkUEIx"
      },
      "source": [
        "# New Section"
      ]
    },
    {
      "cell_type": "code",
      "metadata": {
        "colab": {
          "base_uri": "https://localhost:8080/"
        },
        "id": "anHsunOiRa4r",
        "outputId": "2f62ed89-3381-4474-9318-d1a61af93456"
      },
      "source": [
        "import nltk \r\n",
        "from nltk.corpus import stopwords \r\n",
        "\r\n",
        "from nltk.tokenize import PunktSentenceTokenizer\r\n",
        "from nltk.tokenize import word_tokenize, sent_tokenize \r\n",
        "nltk.download('punkt')\r\n",
        "  \r\n",
        "import spacy \r\n",
        "  \r\n",
        "nlp = spacy.load('en_core_web_sm') \r\n",
        "text = \"Xi Jinping is a Chinese politician who has served as General Secretary of the Chinese Communist Party (CCP) and Chairman of the Central Military Commission (CMC) since 2012, and President of the People's Republic of China (PRC) since 2013. He has been the paramount leader of China, the most prominent political leader in the country, since 2012. The son of Chinese Communist veteran Xi Zhongxun, he was exiled to rural Yanchuan County as a teenager following his father's purge during the Cultural Revolutionandlived in a cave in the village of Liangjiahe, where he joined the CCP and worked as the party secretary.\"\r\n",
        "\r\n",
        "tokenizer = sent_tokenize(text) \r\n",
        "nltk.download('averaged_perceptron_tagger')\r\n",
        "print(\"{:s}\\t{}\".format(\"Word\",  \"NER\"))\r\n",
        "\r\n",
        "doc = nlp(text) \r\n",
        "  \r\n",
        "for ent in doc.ents: \r\n",
        "    print(ent.text, ent.label_, ent.lemma_) \r\n",
        "\r\n",
        "    print(\"\")"
      ],
      "execution_count": 49,
      "outputs": [
        {
          "output_type": "stream",
          "text": [
            "[nltk_data] Downloading package punkt to /root/nltk_data...\n",
            "[nltk_data]   Package punkt is already up-to-date!\n",
            "[nltk_data] Downloading package averaged_perceptron_tagger to\n",
            "[nltk_data]     /root/nltk_data...\n",
            "[nltk_data]   Package averaged_perceptron_tagger is already up-to-\n",
            "[nltk_data]       date!\n",
            "Word\tNER\n",
            "Xi Jinping PERSON Xi Jinping\n",
            "\n",
            "Chinese NORP chinese\n",
            "\n",
            "the Chinese Communist Party ORG the Chinese Communist Party\n",
            "\n",
            "CCP ORG CCP\n",
            "\n",
            "the Central Military Commission ORG the Central Military Commission\n",
            "\n",
            "2012 DATE 2012\n",
            "\n",
            "the People's Republic of China GPE the People 's Republic of China\n",
            "\n",
            "PRC GPE PRC\n",
            "\n",
            "2013 DATE 2013\n",
            "\n",
            "China GPE China\n",
            "\n",
            "2012 DATE 2012\n",
            "\n",
            "Chinese NORP Chinese\n",
            "\n",
            "Communist NORP communist\n",
            "\n",
            "Xi Zhongxun PERSON Xi Zhongxun\n",
            "\n",
            "Yanchuan County GPE Yanchuan County\n",
            "\n",
            "the Cultural Revolutionandlived EVENT the Cultural revolutionandlive\n",
            "\n",
            "Liangjiahe GPE Liangjiahe\n",
            "\n",
            "CCP ORG CCP\n",
            "\n"
          ],
          "name": "stdout"
        }
      ]
    },
    {
      "cell_type": "code",
      "metadata": {
        "colab": {
          "base_uri": "https://localhost:8080/"
        },
        "id": "zJsj4vKWlWYC",
        "outputId": "4d687dc3-5a1f-4cda-facf-2fdf54534292"
      },
      "source": [
        "import nltk \r\n",
        "nltk.download('punkt') \r\n",
        "nltk.download('averaged_perceptron_tagger') \r\n",
        "from nltk import pos_tag, word_tokenize, RegexpParser \r\n",
        "   \r\n",
        "# Example text \r\n",
        "text = \"Xi Jinping is a Chinese politician who has served as General Secretary of the Chinese Communist Party (CCP) and Chairman of the Central Military Commission (CMC) since 2012, and President of the People's Republic of China (PRC) since 2013. He has been the paramount leader of China, the most prominent political leader in the country, since 2012. The son of Chinese Communist veteran Xi Zhongxun, he was exiled to rural Yanchuan County as a teenager following his father's purge during the Cultural Revolutionandlived in a cave in the village of Liangjiahe, where he joined the CCP and worked as the party secretary.\"\r\n",
        "   \r\n",
        "# Find all parts of speech in above sentence \r\n",
        "tagged = pos_tag(word_tokenize(text)) \r\n",
        "   \r\n",
        "#Extract all parts of speech from any text \r\n",
        "chunker = RegexpParser(\"\"\" \r\n",
        "                       NP: {<DT>?<JJ>*<NN>}    #To extract Noun Phrases \r\n",
        "                       P: {<IN>}               #To extract Prepositions \r\n",
        "                       V: {<V.*>}              #To extract Verbs \r\n",
        "                       PP: {<P> <NP>}          #To extract Prepostional Phrases \r\n",
        "                       VP: {<V> <NP|PP>*}      #To extarct Verb Phrases \r\n",
        "                       \"\"\") \r\n",
        "  \r\n",
        "# Print all parts of speech in above sentence \r\n",
        "output = chunker.parse(tagged) \r\n",
        "print(\"After Extracting\\n\", output)"
      ],
      "execution_count": 53,
      "outputs": [
        {
          "output_type": "stream",
          "text": [
            "[nltk_data] Downloading package punkt to /root/nltk_data...\n",
            "[nltk_data]   Package punkt is already up-to-date!\n",
            "[nltk_data] Downloading package averaged_perceptron_tagger to\n",
            "[nltk_data]     /root/nltk_data...\n",
            "[nltk_data]   Package averaged_perceptron_tagger is already up-to-\n",
            "[nltk_data]       date!\n",
            "After Extracting\n",
            " (S\n",
            "  (NP Xi/NN)\n",
            "  Jinping/NNP\n",
            "  (VP (V is/VBZ) (NP a/DT Chinese/JJ politician/NN))\n",
            "  who/WP\n",
            "  (VP (V has/VBZ))\n",
            "  (VP (V served/VBN))\n",
            "  (P as/IN)\n",
            "  General/NNP\n",
            "  Secretary/NNP\n",
            "  (P of/IN)\n",
            "  the/DT\n",
            "  Chinese/NNP\n",
            "  Communist/NNP\n",
            "  Party/NNP\n",
            "  (/(\n",
            "  CCP/NNP\n",
            "  )/)\n",
            "  and/CC\n",
            "  Chairman/NNP\n",
            "  (P of/IN)\n",
            "  the/DT\n",
            "  Central/NNP\n",
            "  Military/NNP\n",
            "  Commission/NNP\n",
            "  (/(\n",
            "  CMC/NNP\n",
            "  )/)\n",
            "  (P since/IN)\n",
            "  2012/CD\n",
            "  ,/,\n",
            "  and/CC\n",
            "  President/NNP\n",
            "  (P of/IN)\n",
            "  the/DT\n",
            "  People/NNP\n",
            "  's/POS\n",
            "  Republic/NNP\n",
            "  (P of/IN)\n",
            "  China/NNP\n",
            "  (/(\n",
            "  PRC/NNP\n",
            "  )/)\n",
            "  (P since/IN)\n",
            "  2013/CD\n",
            "  ./.\n",
            "  He/PRP\n",
            "  (VP (V has/VBZ))\n",
            "  (VP (V been/VBN) (NP the/DT paramount/JJ leader/NN))\n",
            "  (P of/IN)\n",
            "  China/NNP\n",
            "  ,/,\n",
            "  the/DT\n",
            "  most/RBS\n",
            "  (NP prominent/JJ political/JJ leader/NN)\n",
            "  (PP (P in/IN) (NP the/DT country/NN))\n",
            "  ,/,\n",
            "  (P since/IN)\n",
            "  2012/CD\n",
            "  ./.\n",
            "  (NP The/DT son/NN)\n",
            "  (P of/IN)\n",
            "  Chinese/JJ\n",
            "  Communist/NNP\n",
            "  (NP veteran/NN)\n",
            "  Xi/NNP\n",
            "  Zhongxun/NNP\n",
            "  ,/,\n",
            "  he/PRP\n",
            "  (VP (V was/VBD))\n",
            "  (VP (V exiled/VBN))\n",
            "  to/TO\n",
            "  rural/JJ\n",
            "  Yanchuan/NNP\n",
            "  County/NNP\n",
            "  (PP (P as/IN) (NP a/DT teenager/NN))\n",
            "  (VP (V following/VBG))\n",
            "  his/PRP$\n",
            "  (NP father/NN)\n",
            "  's/POS\n",
            "  (NP purge/NN)\n",
            "  (P during/IN)\n",
            "  the/DT\n",
            "  Cultural/NNP\n",
            "  Revolutionandlived/NNP\n",
            "  (PP (P in/IN) (NP a/DT cave/NN))\n",
            "  (PP (P in/IN) (NP the/DT village/NN))\n",
            "  (P of/IN)\n",
            "  Liangjiahe/NNP\n",
            "  ,/,\n",
            "  where/WRB\n",
            "  he/PRP\n",
            "  (VP (V joined/VBD))\n",
            "  the/DT\n",
            "  CCP/NNP\n",
            "  and/CC\n",
            "  (VP\n",
            "    (V worked/VBD)\n",
            "    (PP (P as/IN) (NP the/DT party/NN))\n",
            "    (NP secretary/NN))\n",
            "  ./.)\n"
          ],
          "name": "stdout"
        }
      ]
    }
  ]
}