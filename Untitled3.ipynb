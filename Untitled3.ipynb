{
  "nbformat": 4,
  "nbformat_minor": 0,
  "metadata": {
    "colab": {
      "name": "Untitled3.ipynb",
      "provenance": [],
      "mount_file_id": "1xgOuclTqqZ03GHI_1E9C80p5TiAwxwJa",
      "authorship_tag": "ABX9TyPWRxSiHK9kVr9Nukh9rowT",
      "include_colab_link": true
    },
    "kernelspec": {
      "name": "python3",
      "display_name": "Python 3"
    }
  },
  "cells": [
    {
      "cell_type": "markdown",
      "metadata": {
        "id": "view-in-github",
        "colab_type": "text"
      },
      "source": [
        "<a href=\"https://colab.research.google.com/github/saiprasanna59/KDM/blob/main/Untitled3.ipynb\" target=\"_parent\"><img src=\"https://colab.research.google.com/assets/colab-badge.svg\" alt=\"Open In Colab\"/></a>"
      ]
    },
    {
      "cell_type": "code",
      "metadata": {
        "colab": {
          "base_uri": "https://localhost:8080/"
        },
        "id": "gYD6oCQ4Cna1",
        "outputId": "b1c7d941-06dc-45b1-ab1c-81f510fd2324"
      },
      "source": [
        "        import nltk\r\n",
        "        nltk.download('punkt')\r\n",
        "        import pandas as pd\r\n",
        "        from nltk.tokenize import sent_tokenize\r\n",
        "        from nltk.tokenize import word_tokenize\r\n",
        "        from nltk.probability import FreqDist\r\n",
        "        import matplotlib.pyplot as plt"
      ],
      "execution_count": 1,
      "outputs": [
        {
          "output_type": "stream",
          "text": [
            "[nltk_data] Downloading package punkt to /root/nltk_data...\n",
            "[nltk_data]   Unzipping tokenizers/punkt.zip.\n"
          ],
          "name": "stdout"
        }
      ]
    },
    {
      "cell_type": "code",
      "metadata": {
        "colab": {
          "base_uri": "https://localhost:8080/"
        },
        "id": "byp1jdUrDfvR",
        "outputId": "9e659cc1-3f7e-4e07-9a15-bba325bdca73"
      },
      "source": [
        "from google.colab import drive\r\n",
        "drive.mount('/content/drive')"
      ],
      "execution_count": 8,
      "outputs": [
        {
          "output_type": "stream",
          "text": [
            "Drive already mounted at /content/drive; to attempt to forcibly remount, call drive.mount(\"/content/drive\", force_remount=True).\n"
          ],
          "name": "stdout"
        }
      ]
    },
    {
      "cell_type": "code",
      "metadata": {
        "colab": {
          "base_uri": "https://localhost:8080/"
        },
        "id": "9anTSCJCE9Oh",
        "outputId": "c8776d08-12a3-4246-f571-9ae5416f8e69"
      },
      "source": [
        "import nltk\r\n",
        "nltk.download('wordnet')\r\n",
        "from nltk.stem import WordNetLemmatizer\r\n",
        "wordnet_lemmatizer = WordNetLemmatizer()\r\n",
        "\r\n",
        "sentence = \"she is eating an apple. an apple a day keeps doctor away.\"\r\n",
        "punctuations=\"?:!.,;\"\r\n",
        "sentence_words = nltk.word_tokenize(sentence)\r\n",
        "for word in sentence_words:\r\n",
        "    if word in punctuations:\r\n",
        "        sentence_words.remove(word)\r\n",
        "\r\n",
        "sentence_words\r\n",
        "print(\"{0:20}{1:20}\".format(\"Word\",\"Lemma\"))\r\n",
        "for word in sentence_words:\r\n",
        " print (\"{0:20}{1:20}\".format(word,wordnet_lemmatizer.lemmatize(word)))"
      ],
      "execution_count": 15,
      "outputs": [
        {
          "output_type": "stream",
          "text": [
            "[nltk_data] Downloading package wordnet to /root/nltk_data...\n",
            "[nltk_data]   Package wordnet is already up-to-date!\n",
            "Word                Lemma               \n",
            "she                 she                 \n",
            "is                  is                  \n",
            "eating              eating              \n",
            "an                  an                  \n",
            "apple               apple               \n",
            "an                  an                  \n",
            "apple               apple               \n",
            "a                   a                   \n",
            "day                 day                 \n",
            "keeps               keep                \n",
            "doctor              doctor              \n",
            "away                away                \n"
          ],
          "name": "stdout"
        }
      ]
    },
    {
      "cell_type": "code",
      "metadata": {
        "colab": {
          "base_uri": "https://localhost:8080/"
        },
        "id": "RV4U_i7THEpP",
        "outputId": "8f011024-2789-40ed-b5c1-9b693483fad0"
      },
      "source": [
        "\r\n",
        "from nltk.tag import DefaultTagger \r\n",
        "\r\n",
        "tagging = DefaultTagger('POS') \r\n",
        "  \r\n",
        "tagging.tag_sents([['welcome', 'to', '.'], ['Part', 'of', 'Speech']]) "
      ],
      "execution_count": 50,
      "outputs": [
        {
          "output_type": "execute_result",
          "data": {
            "text/plain": [
              "[[('welcome', 'POS'), ('to', 'POS'), ('.', 'POS')],\n",
              " [('Part', 'POS'), ('of', 'POS'), ('Speech', 'POS')]]"
            ]
          },
          "metadata": {
            "tags": []
          },
          "execution_count": 50
        }
      ]
    },
    {
      "cell_type": "markdown",
      "metadata": {
        "id": "WvzSw44QTVwa"
      },
      "source": [
        "# New Section"
      ]
    },
    {
      "cell_type": "code",
      "metadata": {
        "id": "VjlKY-DWTdtj"
      },
      "source": [
        ""
      ],
      "execution_count": null,
      "outputs": []
    },
    {
      "cell_type": "markdown",
      "metadata": {
        "id": "V4ZDQwKkUEIx"
      },
      "source": [
        "# New Section"
      ]
    },
    {
      "cell_type": "code",
      "metadata": {
        "colab": {
          "base_uri": "https://localhost:8080/"
        },
        "id": "anHsunOiRa4r",
        "outputId": "2f62ed89-3381-4474-9318-d1a61af93456"
      },
      "source": [
        "import nltk \r\n",
        "from nltk.corpus import stopwords \r\n",
        "\r\n",
        "from nltk.tokenize import PunktSentenceTokenizer\r\n",
        "from nltk.tokenize import word_tokenize, sent_tokenize \r\n",
        "nltk.download('punkt')\r\n",
        "  \r\n",
        "import spacy \r\n",
        "  \r\n",
        "nlp = spacy.load('en_core_web_sm') \r\n",
        "text = \"Xi Jinping is a Chinese politician who has served as General Secretary of the Chinese Communist Party (CCP) and Chairman of the Central Military Commission (CMC) since 2012, and President of the People's Republic of China (PRC) since 2013. He has been the paramount leader of China, the most prominent political leader in the country, since 2012. The son of Chinese Communist veteran Xi Zhongxun, he was exiled to rural Yanchuan County as a teenager following his father's purge during the Cultural Revolutionandlived in a cave in the village of Liangjiahe, where he joined the CCP and worked as the party secretary.\"\r\n",
        "\r\n",
        "tokenizer = sent_tokenize(text) \r\n",
        "nltk.download('averaged_perceptron_tagger')\r\n",
        "print(\"{:s}\\t{}\".format(\"Word\",  \"NER\"))\r\n",
        "\r\n",
        "doc = nlp(text) \r\n",
        "  \r\n",
        "for ent in doc.ents: \r\n",
        "    print(ent.text, ent.label_, ent.lemma_) \r\n",
        "\r\n",
        "    print(\"\")"
      ],
      "execution_count": 49,
      "outputs": [
        {
          "output_type": "stream",
          "text": [
            "[nltk_data] Downloading package punkt to /root/nltk_data...\n",
            "[nltk_data]   Package punkt is already up-to-date!\n",
            "[nltk_data] Downloading package averaged_perceptron_tagger to\n",
            "[nltk_data]     /root/nltk_data...\n",
            "[nltk_data]   Package averaged_perceptron_tagger is already up-to-\n",
            "[nltk_data]       date!\n",
            "Word\tNER\n",
            "Xi Jinping PERSON Xi Jinping\n",
            "\n",
            "Chinese NORP chinese\n",
            "\n",
            "the Chinese Communist Party ORG the Chinese Communist Party\n",
            "\n",
            "CCP ORG CCP\n",
            "\n",
            "the Central Military Commission ORG the Central Military Commission\n",
            "\n",
            "2012 DATE 2012\n",
            "\n",
            "the People's Republic of China GPE the People 's Republic of China\n",
            "\n",
            "PRC GPE PRC\n",
            "\n",
            "2013 DATE 2013\n",
            "\n",
            "China GPE China\n",
            "\n",
            "2012 DATE 2012\n",
            "\n",
            "Chinese NORP Chinese\n",
            "\n",
            "Communist NORP communist\n",
            "\n",
            "Xi Zhongxun PERSON Xi Zhongxun\n",
            "\n",
            "Yanchuan County GPE Yanchuan County\n",
            "\n",
            "the Cultural Revolutionandlived EVENT the Cultural revolutionandlive\n",
            "\n",
            "Liangjiahe GPE Liangjiahe\n",
            "\n",
            "CCP ORG CCP\n",
            "\n"
          ],
          "name": "stdout"
        }
      ]
    }
  ]
}